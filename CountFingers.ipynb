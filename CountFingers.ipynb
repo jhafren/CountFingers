{
 "cells": [
  {
   "cell_type": "code",
   "execution_count": 1,
   "metadata": {},
   "outputs": [],
   "source": [
    "# Finger detection and counting "
   ]
  },
  {
   "cell_type": "code",
   "execution_count": 2,
   "metadata": {},
   "outputs": [],
   "source": [
    "import cv2\n",
    "import numpy as np\n",
    "from sklearn.metrics import pairwise"
   ]
  },
  {
   "cell_type": "code",
   "execution_count": 3,
   "metadata": {},
   "outputs": [],
   "source": [
    "# Globals\n",
    "# roi = region of interest\n",
    "roi_top = 50\n",
    "roi_bottom = 300\n",
    "roi_left = 50\n",
    "roi_right = 300\n",
    "\n",
    "weight_for_background_accum = 0.5\n",
    "frames_for_background_accum = 60"
   ]
  },
  {
   "cell_type": "code",
   "execution_count": 4,
   "metadata": {},
   "outputs": [],
   "source": [
    "def accumulate_background(frame, background, accumulatation_weight):\n",
    "   \n",
    "    if background is None:\n",
    "        background = frame.copy().astype(\"float\")\n",
    "        return background\n",
    "    \n",
    "    return cv2.accumulateWeighted(frame.astype(\"float\"), background, accumulatation_weight)"
   ]
  },
  {
   "cell_type": "code",
   "execution_count": 5,
   "metadata": {},
   "outputs": [],
   "source": [
    "def segment_hand(frame, background, threshold=25):\n",
    "    \n",
    "    difference = cv2.absdiff(background.astype(\"uint8\"), frame)\n",
    "    \n",
    "    _, thresholded_img = cv2.threshold(difference, threshold, 255, cv2.THRESH_BINARY)\n",
    "    \n",
    "    thresholded_img = cv2.morphologyEx(thresholded_img, cv2.MORPH_OPEN, (5,5), iterations=2)\n",
    "    \n",
    "    image, contours, hierarchy = cv2.findContours(thresholded_img.copy(), cv2.RETR_EXTERNAL, cv2.CHAIN_APPROX_SIMPLE)\n",
    "    \n",
    "    if len(contours) == 0:\n",
    "        return (thresholded_img, None)\n",
    "    else:\n",
    "        # Assumtion that the largest object is the hand\n",
    "        hand_contours = max(contours, key=cv2.contourArea)\n",
    "        \n",
    "        return (thresholded_img, hand_contours)"
   ]
  },
  {
   "cell_type": "code",
   "execution_count": 6,
   "metadata": {},
   "outputs": [],
   "source": [
    "def count_fingers(thresholded_img, hand_contours):\n",
    "    \n",
    "    convex_hull = cv2.convexHull(hand_contours)\n",
    "    \n",
    "    # Get the outermost points\n",
    "    top    = tuple(convex_hull[convex_hull[:, :, 1].argmin()][0])\n",
    "    bottom = tuple(convex_hull[convex_hull[:, :, 1].argmax()][0])\n",
    "    left   = tuple(convex_hull[convex_hull[:, :, 0].argmin()][0])\n",
    "    right  = tuple(convex_hull[convex_hull[:, :, 0].argmax()][0])\n",
    "\n",
    "    # Approximation that the center of the hand is in the middle of these points\n",
    "    center_x = left[0] + right[0] // 2\n",
    "    center_y = top[1] + bottom[1] // 2\n",
    "    \n",
    "    # Find the longest distance from the hand center point to any outermost point (finger tip)\n",
    "    distances = pairwise.euclidean_distances([(center_x, center_y)], Y=[left, right, top, bottom])[0]\n",
    "    max_distance = distances.max()\n",
    "    \n",
    "    # Create a circle mask from the center point of the hand, with X% of the max distance\n",
    "    radius = int(max_distance * 0.8)\n",
    "    circumference = (2 * np.pi * radius)\n",
    "    \n",
    "    circular_mask = np.zeros(thresholded_img.shape[:2], dtype=\"uint8\")\n",
    "    cv2.circle(circular_mask, (center_x, center_y), radius, color=255, thickness=10)\n",
    "    \n",
    "    # Only look at the part of the thresholded image that is on the circle to find the fingers crossing it\n",
    "    circular_roi = cv2.bitwise_and(thresholded_img, thresholded_img, mask=circular_mask)\n",
    "    image, contours, hierarchy = cv2.findContours(circular_roi, cv2.RETR_EXTERNAL, cv2.CHAIN_APPROX_NONE)\n",
    "    \n",
    "    finger_count = 0\n",
    "    \n",
    "    for contour in contours:\n",
    "        (x, y, w, h) = cv2.boundingRect(contour)\n",
    "        \n",
    "        # The contour is considered a finger if it is:\n",
    "        #  not too low in the image (= points from wrist),\n",
    "        #  not too small (= noice)\n",
    "        #  not too large (= part of hand)\n",
    "        not_too_low = (y + h) < center_y\n",
    "        not_too_small = cv2.contourArea(contour) > 100\n",
    "        not_too_large = contour.shape[0] < (circumference * 0.25)\n",
    "        \n",
    "        if not_too_low and not_too_large:\n",
    "            finger_count += 1\n",
    "    \n",
    "    return (finger_count, circular_roi)"
   ]
  },
  {
   "cell_type": "code",
   "execution_count": 7,
   "metadata": {},
   "outputs": [],
   "source": [
    "esc_key = 27\n",
    "camera = cv2.VideoCapture(0)\n",
    "processed_frames = 0\n",
    "background = None\n",
    "\n",
    "while True:\n",
    "    is_read, frame = camera.read()\n",
    "    \n",
    "    frame = cv2.flip(frame, 1)\n",
    "        \n",
    "    frame_copy = frame.copy()\n",
    "    cv2.rectangle(frame_copy, (roi_left,roi_top), (roi_right, roi_bottom), (0,0,255), 2)\n",
    "    \n",
    "    roi = frame.copy()[roi_top:roi_bottom, roi_left:roi_right]\n",
    "    \n",
    "    roi_gray = cv2.cvtColor(roi, cv2.COLOR_BGR2GRAY)\n",
    "    cv2.GaussianBlur(roi_gray, (9,9), 0)\n",
    "    \n",
    "    if processed_frames < frames_for_background_accum:\n",
    "        background = accumulate_background(roi_gray, background, weight_for_background_accum)\n",
    "        cv2.putText(frame_copy, \"Please wait, calculating background...\", \n",
    "                    (roi_left, roi_top-10), cv2.FONT_HERSHEY_SIMPLEX, .5, (0,0,255), 2)\n",
    "    \n",
    "    else:\n",
    "        (thresholded_img, hand_contours) = segment_hand(roi_gray, background, 10)\n",
    "        cv2.imshow(\"thresholded\", thresholded_img)\n",
    "\n",
    "        if not hand_contours is None:\n",
    "            cv2.drawContours(roi_gray, hand_contours, -1, 255)\n",
    "            cv2.imshow(\"Hand contours\", roi_gray)\n",
    "            \n",
    "            finger_count, circular_roi = count_fingers(thresholded_img, hand_contours)\n",
    "            cv2.imshow(\"Roi circular mask\", circular_roi)\n",
    "            \n",
    "            cv2.putText(frame_copy, f\"Fingers: {finger_count}\", \n",
    "                    (roi_left, roi_top-10), cv2.FONT_HERSHEY_SIMPLEX, .5, (0,0,255), 2)\n",
    "\n",
    "    processed_frames += 1\n",
    "    \n",
    "    cv2.imshow(\"Count fingers\", frame_copy)\n",
    "\n",
    "    key_pressed = cv2.waitKey(1) & 0xFF\n",
    "    if key_pressed == esc_key:\n",
    "        break\n",
    "    \n",
    "camera.release()\n",
    "cv2.destroyAllWindows()"
   ]
  },
  {
   "cell_type": "code",
   "execution_count": null,
   "metadata": {},
   "outputs": [],
   "source": []
  },
  {
   "cell_type": "code",
   "execution_count": null,
   "metadata": {},
   "outputs": [],
   "source": []
  },
  {
   "cell_type": "code",
   "execution_count": null,
   "metadata": {},
   "outputs": [],
   "source": []
  },
  {
   "cell_type": "code",
   "execution_count": null,
   "metadata": {},
   "outputs": [],
   "source": []
  }
 ],
 "metadata": {
  "kernelspec": {
   "display_name": "Python 3",
   "language": "python",
   "name": "python3"
  },
  "language_info": {
   "codemirror_mode": {
    "name": "ipython",
    "version": 3
   },
   "file_extension": ".py",
   "mimetype": "text/x-python",
   "name": "python",
   "nbconvert_exporter": "python",
   "pygments_lexer": "ipython3",
   "version": "3.6.6"
  }
 },
 "nbformat": 4,
 "nbformat_minor": 2
}
